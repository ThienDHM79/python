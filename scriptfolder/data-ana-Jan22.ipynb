{
 "cells": [
  {
   "cell_type": "code",
   "execution_count": 4,
   "metadata": {},
   "outputs": [],
   "source": [
    "import pandas as pd"
   ]
  },
  {
   "cell_type": "code",
   "execution_count": 7,
   "metadata": {},
   "outputs": [
    {
     "data": {
      "text/plain": [
       "'car'"
      ]
     },
     "execution_count": 7,
     "metadata": {},
     "output_type": "execute_result"
    }
   ],
   "source": [
    "mylist = [5,'car', True] #boolean True/False\n",
    "myvar = pd.Series(mylist, index=[\"qtyowned\",\"asset\",\"isnew\"])\n",
    "myvar[\"asset\"]"
   ]
  },
  {
   "cell_type": "code",
   "execution_count": 8,
   "metadata": {},
   "outputs": [
    {
     "name": "stdout",
     "output_type": "stream",
     "text": [
      "day1    200\n",
      "day2    500\n",
      "dtype: int64\n"
     ]
    }
   ],
   "source": [
    "calories= {\"day1\": 200, \"day2\":500}\n",
    "mycalo = pd.Series(calories)\n",
    "print(mycalo)"
   ]
  },
  {
   "cell_type": "code",
   "execution_count": 10,
   "metadata": {},
   "outputs": [
    {
     "name": "stdout",
     "output_type": "stream",
     "text": [
      "   calo  duration\n",
      "0   100        50\n",
      "1   200        40\n",
      "2   500        60\n"
     ]
    }
   ],
   "source": [
    "data = {\"calo\": [100, 200, 500], \"duration\":[50,40, 60]}\n",
    "mydf = pd.DataFrame(data)\n",
    "print(mydf.head())"
   ]
  }
 ],
 "metadata": {
  "interpreter": {
   "hash": "e2e0031ce0d2fad09638c18f3b435473ad13d3149b5ce5a85b8f06e7d78b67ad"
  },
  "kernelspec": {
   "display_name": "Python 3.8.10 64-bit",
   "language": "python",
   "name": "python3"
  },
  "language_info": {
   "codemirror_mode": {
    "name": "ipython",
    "version": 3
   },
   "file_extension": ".py",
   "mimetype": "text/x-python",
   "name": "python",
   "nbconvert_exporter": "python",
   "pygments_lexer": "ipython3",
   "version": "3.8.10"
  },
  "orig_nbformat": 4
 },
 "nbformat": 4,
 "nbformat_minor": 2
}
